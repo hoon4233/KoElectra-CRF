{
 "cells": [
  {
   "cell_type": "code",
   "execution_count": 1,
   "metadata": {
    "collapsed": true
   },
   "outputs": [
    {
     "name": "stdout",
     "output_type": "stream",
     "text": [
      "Load tokenizer time : 4.446608304977417\n",
      "\n",
      "\n"
     ]
    }
   ],
   "source": [
    "from transformers import ElectraTokenizer\n",
    "import time\n",
    "from collections import defaultdict\n",
    "import matplotlib.pyplot as plt\n",
    "%matplotlib inline\n",
    "from statistics import mean, median, mode, stdev\n",
    "\n",
    "start_time = time.time()\n",
    "model_name_or_path = \"monologg/koelectra-base-v3-discriminator\"\n",
    "tokenizer = ElectraTokenizer.from_pretrained(\n",
    "        model_name_or_path,\n",
    "        do_lower_case=False\n",
    "    )\n",
    "print(f\"Load tokenizer time : {time.time()-start_time}\\n\\n\")\n",
    "INF = 10e9\n",
    "# STD = 128\n",
    "STD = 64"
   ]
  },
  {
   "cell_type": "code",
   "execution_count": 2,
   "outputs": [],
   "source": [
    "def check(FILE_PATH):\n",
    "    global tokenizer, INF, STD\n",
    "    print(\"*\"*5+f\" check_len : {FILE_PATH} \"+\"*\"*5)\n",
    "    count = 0\n",
    "    lens = defaultdict(int)\n",
    "\n",
    "    min_sen_len = INF\n",
    "    max_sen_len = -1\n",
    "    avg_sen_len = 0\n",
    "\n",
    "    min_tok_len = INF\n",
    "    max_tok_len = -1\n",
    "    avg_tok_len = 0\n",
    "    less_count, more_count, same_count = 0, 0, 0\n",
    "\n",
    "    with open(FILE_PATH, 'r') as f :\n",
    "        LINES = f.readlines()\n",
    "\n",
    "    for line in LINES:\n",
    "        sentence, tags = line.split('\\t')\n",
    "\n",
    "        len_sen = len(sentence)\n",
    "        min_sen_len = min(min_sen_len, len_sen)\n",
    "        max_sen_len = max(max_sen_len, len_sen)\n",
    "        avg_sen_len += len_sen\n",
    "\n",
    "        word_tokens = tokenizer.tokenize(sentence)\n",
    "        len_tok = len(word_tokens)\n",
    "        lens[len_tok] += 1\n",
    "        if len_tok > STD :\n",
    "            more_count += 1\n",
    "        elif len_tok < STD :\n",
    "            less_count += 1\n",
    "        else :\n",
    "            same_count += 1\n",
    "        min_tok_len = min(min_tok_len, len_tok)\n",
    "        max_tok_len = max(max_tok_len, len_tok)\n",
    "        avg_tok_len += len_tok\n",
    "\n",
    "        count +=1\n",
    "\n",
    "    avg_sen_len /= count\n",
    "    avg_tok_len /= count\n",
    "\n",
    "    mean, mode, median, std = 0,0,0,0\n",
    "    mean = avg_tok_len\n",
    "    var = 0\n",
    "    med_count, med_flag = 0, True\n",
    "    max_freq = -1\n",
    "    for key in sorted(lens.keys()) :\n",
    "        val = lens[key]\n",
    "        # 표준편차\n",
    "        var += ((key-mean)**2) * (val)\n",
    "        # 중앙값\n",
    "        med_count += val\n",
    "        if med_count >= int(count/2) and med_flag :\n",
    "            median = key\n",
    "            med_flag = False\n",
    "        # 최빈값\n",
    "        if max_freq < val :\n",
    "            mode = key\n",
    "            max_freq = val\n",
    "\n",
    "    std = (var/count)**0.5\n",
    "\n",
    "    print(f\"min_sen_len : {min_sen_len}\")\n",
    "    print(f\"max_sen_len : {max_sen_len}\")\n",
    "    print(f\"avg_sen_len : {avg_sen_len:.3f}\\n\")\n",
    "    print(f\"min_tok_len : {min_tok_len}\")\n",
    "    print(f\"max_tok_len : {max_tok_len}\")\n",
    "    print(f\"avg_tok_len : {avg_tok_len:.3f}\")\n",
    "    print(f\"more, same, less : {more_count, same_count, less_count}\\n\")\n",
    "    print(f\"mean, std : {mean:.3f}, {std:.3f}\")\n",
    "    print(f\"median : {median}\")\n",
    "    print(f\"mode, max_freq : {mode, max_freq}\\n\\n\")\n",
    "    # # 모든 키 값이 1번 씩만 나왔다고 가정하고 구한 평균, 중앙값, 최빈값, 표준편차\n",
    "    # print(f\"mean, median, mode, std : {mean(lens):.3f}, {median(lens):.3f}, {mode(lens):3f}, {stdev(lens):.3f}\")\n",
    "    # print(f\"lens : {lens}\\n\\n\")\n",
    "\n",
    "    # plt.hist(lens, bins=len(lens), label=FILE_PATH)\n",
    "    plt.bar(list(lens.keys()), lens.values())\n",
    "    plt.show()\n",
    "\n",
    "    return lens"
   ],
   "metadata": {
    "collapsed": false,
    "pycharm": {
     "name": "#%%\n"
    }
   }
  },
  {
   "cell_type": "code",
   "execution_count": 3,
   "outputs": [
    {
     "name": "stdout",
     "output_type": "stream",
     "text": [
      "***** check_len : ../data/new_test.tsv *****\n",
      "min_sen_len : 6\n",
      "max_sen_len : 1970\n",
      "avg_sen_len : 64.517\n",
      "\n",
      "min_tok_len : 3\n",
      "max_tok_len : 793\n",
      "avg_tok_len : 34.496\n",
      "more, same, less : (696, 48, 9256)\n",
      "\n",
      "mean, std : 34.496, 21.284\n",
      "median : 30\n",
      "mode, max_freq : (22, 334)\n",
      "\n",
      "\n"
     ]
    },
    {
     "data": {
      "text/plain": "<Figure size 432x288 with 1 Axes>",
      "image/png": "[encoded data removed]"
     },
     "metadata": {
      "needs_background": "light"
     },
     "output_type": "display_data"
    },
    {
     "name": "stdout",
     "output_type": "stream",
     "text": [
      "Execution time : 6.9555182456970215\n"
     ]
    }
   ],
   "source": [
    "train_lens = check('../data/new_test.tsv')\n",
    "print(f\"Execution time : {time.time()-start_time}\")"
   ],
   "metadata": {
    "collapsed": false,
    "pycharm": {
     "name": "#%%\n"
    }
   }
  }
 ],
 "metadata": {
  "kernelspec": {
   "display_name": "Python 3",
   "language": "python",
   "name": "python3"
  },
  "language_info": {
   "codemirror_mode": {
    "name": "ipython",
    "version": 2
   },
   "file_extension": ".py",
   "mimetype": "text/x-python",
   "name": "python",
   "nbconvert_exporter": "python",
   "pygments_lexer": "ipython2",
   "version": "2.7.6"
  }
 },
 "nbformat": 4,
 "nbformat_minor": 0
}